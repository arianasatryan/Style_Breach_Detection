{
 "cells": [
  {
   "cell_type": "code",
   "execution_count": 1,
   "metadata": {},
   "outputs": [],
   "source": [
    "from pan17_stylebreach_evaluator import main"
   ]
  },
  {
   "cell_type": "code",
   "execution_count": 2,
   "metadata": {},
   "outputs": [],
   "source": [
    "train_path='/Users/hekpo/Desktop/diplomnaya/for_eng/pan17-style-breach-detection-training-dataset-2017-02-15'\n",
    "test_path='/Users/hekpo/Desktop/diplomnaya/for_eng/pan17-style-breach-detection-test-dataset-2017-02-15'\n",
    "train_results_path='/Users/hekpo/Desktop/diplomnaya/for_eng/results/train_results'\n",
    "test_results_path='/Users/hekpo/Desktop/diplomnaya/for_eng/results/test_results'\n",
    "train_output_dir='/Users/hekpo/Desktop/diplomnaya/for_eng/results/train_results'\n",
    "test_output_dir='/Users/hekpo/Desktop/diplomnaya/for_eng/results/test_results'"
   ]
  },
  {
   "cell_type": "code",
   "execution_count": 3,
   "metadata": {},
   "outputs": [
    {
     "name": "stdout",
     "output_type": "stream",
     "text": [
      "The results have been written to the output folder.\n",
      "measure{\n",
      "  key: \"windowDiff\"\n",
      "  value: \"0.318476925805226\"\n",
      "}\n",
      "measure{\n",
      "  key: \"winP\"\n",
      "  value: \"0.9195443842525458\"\n",
      "}\n",
      "measure{\n",
      "  key: \"winR\"\n",
      "  value: \"0.25736982461811486\"\n",
      "}\n",
      "measure{\n",
      "  key: \"winF\"\n",
      "  value: \"0.2283449996089691\"\n",
      "}\n"
     ]
    }
   ],
   "source": [
    "main(train_path,train_results_path,train_output_dir)"
   ]
  },
  {
   "cell_type": "code",
   "execution_count": 4,
   "metadata": {},
   "outputs": [
    {
     "name": "stdout",
     "output_type": "stream",
     "text": [
      "The results have been written to the output folder.\n",
      "measure{\n",
      "  key: \"windowDiff\"\n",
      "  value: \"0.34056999811285377\"\n",
      "}\n",
      "measure{\n",
      "  key: \"winP\"\n",
      "  value: \"0.8891387726990527\"\n",
      "}\n",
      "measure{\n",
      "  key: \"winR\"\n",
      "  value: \"0.2951044492041136\"\n",
      "}\n",
      "measure{\n",
      "  key: \"winF\"\n",
      "  value: \"0.2438368105790111\"\n",
      "}\n"
     ]
    }
   ],
   "source": [
    "main(test_path,test_results_path,test_output_dir)"
   ]
  },
  {
   "cell_type": "code",
   "execution_count": null,
   "metadata": {},
   "outputs": [],
   "source": []
  }
 ],
 "metadata": {
  "kernelspec": {
   "display_name": "Python 3",
   "language": "python",
   "name": "python3"
  },
  "language_info": {
   "codemirror_mode": {
    "name": "ipython",
    "version": 3
   },
   "file_extension": ".py",
   "mimetype": "text/x-python",
   "name": "python",
   "nbconvert_exporter": "python",
   "pygments_lexer": "ipython3",
   "version": "3.8.1"
  }
 },
 "nbformat": 4,
 "nbformat_minor": 4
}
